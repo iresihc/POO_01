{
  "nbformat": 4,
  "nbformat_minor": 0,
  "metadata": {
    "colab": {
      "provenance": []
    },
    "kernelspec": {
      "name": "python3",
      "display_name": "Python 3"
    },
    "language_info": {
      "name": "python"
    }
  },
  "cells": [
    {
      "cell_type": "markdown",
      "source": [
        "#Clases, herencias y polimorfismos"
      ],
      "metadata": {
        "id": "kxBa0xKDXGkp"
      }
    },
    {
      "cell_type": "markdown",
      "source": [
        "###Definiciones\n",
        "Se usa def para declarar y a lo declarado se le da un significado con ( )\n"
      ],
      "metadata": {
        "id": "spwTYQOwZvSm"
      }
    },
    {
      "cell_type": "code",
      "source": [
        "#Vamos a crear una definicion (que es una funcion integrada en Python)\n",
        "def Iresi(a,b,c):\n",
        "  x=a+b*c\n",
        "  return x"
      ],
      "metadata": {
        "id": "Bv0H3Ao2ZxHn"
      },
      "execution_count": null,
      "outputs": []
    },
    {
      "cell_type": "code",
      "source": [
        "Iresi(1,2,3)"
      ],
      "metadata": {
        "colab": {
          "base_uri": "https://localhost:8080/"
        },
        "id": "OoJTnVq1bXW9",
        "outputId": "e2eb5120-2fd1-4248-8bba-99cd455bb92f"
      },
      "execution_count": null,
      "outputs": [
        {
          "output_type": "execute_result",
          "data": {
            "text/plain": [
              "7"
            ]
          },
          "metadata": {},
          "execution_count": 3
        }
      ]
    },
    {
      "cell_type": "code",
      "source": [
        "#Definicion que calcule la inversa de una matriz\n",
        "import numpy as np\n",
        "\n",
        "def Inv_Matrix(M):\n",
        "  if M.shape[0] !=M.shape[1]:\n",
        "    letrero =\"Input matrix must be square\"\n",
        "    return letrero\n",
        "  x=np.linalg.inv(M)\n",
        "  return x"
      ],
      "metadata": {
        "id": "dtMm_XPibi4j"
      },
      "execution_count": null,
      "outputs": []
    },
    {
      "cell_type": "code",
      "source": [
        "np.random.seed(12)\n",
        "M=np.random.randint(1,20,size=(3,2))"
      ],
      "metadata": {
        "id": "H4uZWJFAkG0v"
      },
      "execution_count": null,
      "outputs": []
    },
    {
      "cell_type": "code",
      "source": [
        "Inv_Matrix(M)"
      ],
      "metadata": {
        "id": "CIcn_kNbn6y9",
        "outputId": "66413522-bfef-4d0e-b919-20135a85e054",
        "colab": {
          "base_uri": "https://localhost:8080/",
          "height": 35
        }
      },
      "execution_count": null,
      "outputs": [
        {
          "output_type": "execute_result",
          "data": {
            "text/plain": [
              "'Input matrix must be square'"
            ],
            "application/vnd.google.colaboratory.intrinsic+json": {
              "type": "string"
            }
          },
          "metadata": {},
          "execution_count": 19
        }
      ]
    },
    {
      "cell_type": "code",
      "source": [
        "M"
      ],
      "metadata": {
        "colab": {
          "base_uri": "https://localhost:8080/"
        },
        "id": "oY9lWoCgkT78",
        "outputId": "f1881da9-af60-48dc-c8c5-2436230ffa60"
      },
      "execution_count": null,
      "outputs": [
        {
          "output_type": "execute_result",
          "data": {
            "text/plain": [
              "array([[12,  7],\n",
              "       [18,  3]])"
            ]
          },
          "metadata": {},
          "execution_count": 15
        }
      ]
    },
    {
      "cell_type": "code",
      "source": [
        "b=np.array(([7,5,0], [3,8,9],[2,6,1]))"
      ],
      "metadata": {
        "id": "AO84uF1add10"
      },
      "execution_count": null,
      "outputs": []
    },
    {
      "cell_type": "code",
      "source": [
        "Inv_Matrix(b)"
      ],
      "metadata": {
        "colab": {
          "base_uri": "https://localhost:8080/"
        },
        "id": "po0uW-Y7er5B",
        "outputId": "c0c5d2a1-2496-4d0b-ebf3-04f9b78cfd4e"
      },
      "execution_count": null,
      "outputs": [
        {
          "output_type": "execute_result",
          "data": {
            "text/plain": [
              "array([[ 0.18623482,  0.02024291, -0.18218623],\n",
              "       [-0.06072874, -0.02834008,  0.25506073],\n",
              "       [-0.00809717,  0.12955466, -0.1659919 ]])"
            ]
          },
          "metadata": {},
          "execution_count": 7
        }
      ]
    },
    {
      "cell_type": "code",
      "source": [
        "b.shape"
      ],
      "metadata": {
        "colab": {
          "base_uri": "https://localhost:8080/"
        },
        "id": "mBK1fIM9kdI3",
        "outputId": "a81f794c-00fa-412c-8fde-4ed881538d9f"
      },
      "execution_count": null,
      "outputs": [
        {
          "output_type": "execute_result",
          "data": {
            "text/plain": [
              "(3, 3)"
            ]
          },
          "metadata": {},
          "execution_count": 12
        }
      ]
    }
  ]
}