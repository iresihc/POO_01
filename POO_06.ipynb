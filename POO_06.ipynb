{
  "nbformat": 4,
  "nbformat_minor": 0,
  "metadata": {
    "colab": {
      "provenance": []
    },
    "kernelspec": {
      "name": "python3",
      "display_name": "Python 3"
    },
    "language_info": {
      "name": "python"
    }
  },
  "cells": [
    {
      "cell_type": "markdown",
      "source": [
        "##Condicionales"
      ],
      "metadata": {
        "id": "CLTJaesoKkrm"
      }
    },
    {
      "cell_type": "code",
      "source": [
        "#If (condition):\n",
        "  #Executes this block if\n",
        "  #Condition is true\n",
        "\n",
        "#else:\n",
        "  #Executes this block if\n",
        "  #Condition is false\n"
      ],
      "metadata": {
        "id": "fhAohhA8KmdK"
      },
      "execution_count": null,
      "outputs": []
    },
    {
      "cell_type": "code",
      "source": [
        "#Ejemplo\n",
        "\n",
        "x=3\n",
        "if x % 2 == 0:\n",
        "  if x > 10:\n",
        "    print(\"El numero es par y es mayor a 10\")\n",
        "  else:\n",
        "    print(\"El numero es par pero no es mayor a 10\")\n",
        "else:\n",
        "    print(\"El numero no es par\")"
      ],
      "metadata": {
        "colab": {
          "base_uri": "https://localhost:8080/"
        },
        "id": "XFnDF7WQLnOK",
        "outputId": "96cc5633-b05e-459c-af5a-01959aa2f450"
      },
      "execution_count": null,
      "outputs": [
        {
          "output_type": "stream",
          "name": "stdout",
          "text": [
            "El numero no es par\n"
          ]
        }
      ]
    }
  ]
}