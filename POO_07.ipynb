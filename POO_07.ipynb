{
  "nbformat": 4,
  "nbformat_minor": 0,
  "metadata": {
    "colab": {
      "provenance": []
    },
    "kernelspec": {
      "name": "python3",
      "display_name": "Python 3"
    },
    "language_info": {
      "name": "python"
    }
  },
  "cells": [
    {
      "cell_type": "markdown",
      "source": [
        "#CONDICIONALES: IF... ELIF... ELSE"
      ],
      "metadata": {
        "id": "aT_aYuPFOdJT"
      }
    },
    {
      "cell_type": "code",
      "source": [
        "letra=\"D\"\n",
        "if letra == \"B\":\n",
        "  print(\"La letra es B\")\n",
        "elif letra == \"C\":\n",
        "  print(\"La letra es C\")\n",
        "elif letra == \"A\":\n",
        "  print(\"La letra es A\")\n",
        "else:\n",
        "  print(\"La letra no es A, ni B, ni C\")"
      ],
      "metadata": {
        "colab": {
          "base_uri": "https://localhost:8080/"
        },
        "id": "qq9zEUnPOi_y",
        "outputId": "3e7e1a30-c32a-498c-c85d-59029c923ebc"
      },
      "execution_count": null,
      "outputs": [
        {
          "output_type": "stream",
          "name": "stdout",
          "text": [
            "La letra no es A, ni B, ni C\n"
          ]
        }
      ]
    },
    {
      "cell_type": "markdown",
      "source": [
        "##Ejemplo 2"
      ],
      "metadata": {
        "id": "LjOUZM62PyzO"
      }
    },
    {
      "cell_type": "code",
      "source": [
        "numero= int(input(\"Escribe un número: \"))"
      ],
      "metadata": {
        "colab": {
          "base_uri": "https://localhost:8080/"
        },
        "id": "-PFbFTr5Pai3",
        "outputId": "dd878a43-28b5-4caf-b721-9e019c5ec3fb"
      },
      "execution_count": null,
      "outputs": [
        {
          "name": "stdout",
          "output_type": "stream",
          "text": [
            "Escribe un número: 6\n"
          ]
        }
      ]
    },
    {
      "cell_type": "code",
      "source": [
        "numero= int(input(\"Escribe un número: \"))\n",
        "\n",
        "if numero % 2 == 0 and numero % 4 != 0:\n",
        "  print(f\"{numero} es múltiplo de dos\")\n",
        "elif numero % 4 == 0:\n",
        "  print(f\"{numero} es múltiplo cuatro y de dos\")\n",
        "else:\n",
        "    print(f\"{numero} no es múltiplo de dos\")"
      ],
      "metadata": {
        "colab": {
          "base_uri": "https://localhost:8080/"
        },
        "id": "TPL5P6PpQAI7",
        "outputId": "599df43e-ac1b-4393-933d-ebe93d8c74dc"
      },
      "execution_count": null,
      "outputs": [
        {
          "output_type": "stream",
          "name": "stdout",
          "text": [
            "Escribe un número: 6\n",
            "6 es múltiplo de dos\n"
          ]
        }
      ]
    },
    {
      "cell_type": "code",
      "source": [
        "animal=int(input(\"Escribe cuantas mascotas tienes: \"))\n",
        "if animal == 1:\n",
        "  print(f\"{animal} Este numero de animales es adecuado para una casa\")\n",
        "elif animal == 2:\n",
        "  print(f\"{animal} Este numero de animales es adecuado para una casa\")\n",
        "elif animal == 3:\n",
        "  print(f\"{animal} Este numero de animales es adecuado para una casa\")\n",
        "else:\n",
        "  print(f\"{animal} Este numero de animales no es adecuado para una casa \")"
      ],
      "metadata": {
        "colab": {
          "base_uri": "https://localhost:8080/"
        },
        "id": "cHyAP1OCTcOQ",
        "outputId": "0f0e42f1-b54b-42ed-965a-1f80a7491ae0"
      },
      "execution_count": null,
      "outputs": [
        {
          "output_type": "stream",
          "name": "stdout",
          "text": [
            "Escribe cuantas mascotas tienes: 2\n",
            "2 Este numero de animales es adecuado para una casa\n"
          ]
        }
      ]
    },
    {
      "cell_type": "markdown",
      "source": [
        "#Clases y Polimorfismos"
      ],
      "metadata": {
        "id": "RrV4kvehY3S-"
      }
    },
    {
      "cell_type": "code",
      "source": [
        "class Mascota:\n",
        "  def hable(self):\n",
        "    return NotImplementedError\n",
        "class Perro(Mascota):\n",
        "  def hable(self):\n",
        "    return \"Woof\"\n",
        "class Gato(Mascota):\n",
        "  def hable(self):\n",
        "    return \"Miauu\"\n",
        "class Pez(Mascota):\n",
        "  def hable(self):\n",
        "    return \"Gluglu\"\n",
        "class Vaca(Mascota):\n",
        "  def hable(self):\n",
        "    return \"Muu\"\n",
        "class Gallo(Mascota):\n",
        "  def hable(self):\n",
        "    return \"Quiquiriquí\""
      ],
      "metadata": {
        "id": "Spc5nyMuXWu0"
      },
      "execution_count": null,
      "outputs": []
    },
    {
      "cell_type": "code",
      "source": [
        "#Vamos a crear una lista de Mascotas\n",
        "mascotas = [Perro(),Gato(),Vaca(),Pez(),Gallo()]"
      ],
      "metadata": {
        "id": "TLxwpikvaTI1"
      },
      "execution_count": null,
      "outputs": []
    },
    {
      "cell_type": "code",
      "source": [
        "for mascota in mascotas:\n",
        "  print(mascota.hable())"
      ],
      "metadata": {
        "colab": {
          "base_uri": "https://localhost:8080/"
        },
        "id": "nfj8Rj6NavUh",
        "outputId": "f1326bef-e9e2-4d0e-b04b-454d81887d7a"
      },
      "execution_count": null,
      "outputs": [
        {
          "output_type": "stream",
          "name": "stdout",
          "text": [
            "Woof\n",
            "Miauu\n",
            "Muu\n",
            "Gluglu\n",
            "Quiquiriquí\n"
          ]
        }
      ]
    },
    {
      "cell_type": "code",
      "source": [
        "class Persona:\n",
        "  def __init__(self,nombre,edad):\n",
        "    self.nombre = nombre\n",
        "    self.edad = edad"
      ],
      "metadata": {
        "id": "4kKu1TC-dipE"
      },
      "execution_count": null,
      "outputs": []
    },
    {
      "cell_type": "code",
      "source": [
        "Daniela = Persona(\"Daniela\", 21)"
      ],
      "metadata": {
        "id": "2nMYPbi9d3XM"
      },
      "execution_count": null,
      "outputs": []
    },
    {
      "cell_type": "code",
      "source": [
        "Daniela.nombre"
      ],
      "metadata": {
        "colab": {
          "base_uri": "https://localhost:8080/",
          "height": 35
        },
        "id": "_T-tkeM0eMUN",
        "outputId": "55a6713f-f1d7-48e3-caf7-38a77e02f41b"
      },
      "execution_count": null,
      "outputs": [
        {
          "output_type": "execute_result",
          "data": {
            "text/plain": [
              "'Daniela'"
            ],
            "application/vnd.google.colaboratory.intrinsic+json": {
              "type": "string"
            }
          },
          "metadata": {},
          "execution_count": 38
        }
      ]
    },
    {
      "cell_type": "code",
      "source": [
        "Daniela.edad"
      ],
      "metadata": {
        "colab": {
          "base_uri": "https://localhost:8080/",
          "height": 179
        },
        "id": "E75ApXjleJk5",
        "outputId": "31493ae4-c33d-4fb2-c26e-b516ff04a98b"
      },
      "execution_count": null,
      "outputs": [
        {
          "output_type": "error",
          "ename": "NameError",
          "evalue": "ignored",
          "traceback": [
            "\u001b[0;31m---------------------------------------------------------------------------\u001b[0m",
            "\u001b[0;31mNameError\u001b[0m                                 Traceback (most recent call last)",
            "\u001b[0;32m<ipython-input-39-d5f8fcec8462>\u001b[0m in \u001b[0;36m<cell line: 1>\u001b[0;34m()\u001b[0m\n\u001b[0;32m----> 1\u001b[0;31m \u001b[0mDaniela\u001b[0m\u001b[0;34m,\u001b[0m\u001b[0medad\u001b[0m\u001b[0;34m\u001b[0m\u001b[0;34m\u001b[0m\u001b[0m\n\u001b[0m",
            "\u001b[0;31mNameError\u001b[0m: name 'edad' is not defined"
          ]
        }
      ]
    },
    {
      "cell_type": "code",
      "source": [],
      "metadata": {
        "id": "GBCHAy32eIG0"
      },
      "execution_count": null,
      "outputs": []
    },
    {
      "cell_type": "code",
      "source": [],
      "metadata": {
        "id": "eIuzVsrVeDOm"
      },
      "execution_count": null,
      "outputs": []
    }
  ]
}